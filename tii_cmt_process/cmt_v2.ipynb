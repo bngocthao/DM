{
 "cells": [
  {
   "cell_type": "markdown",
   "metadata": {},
   "source": [
    "# Xóa hết bình luận rỗng"
   ]
  },
  {
   "cell_type": "code",
   "execution_count": 1,
   "metadata": {},
   "outputs": [],
   "source": [
    "import pandas as pd\n",
    "import numpy as np"
   ]
  },
  {
   "cell_type": "code",
   "execution_count": 2,
   "metadata": {},
   "outputs": [
    {
     "name": "stdout",
     "output_type": "stream",
     "text": [
      "              name                                            content  rate\n",
      "0  Nguyễn Giang An  mua bỉm đợt sale 1tr600k cho 4 bịch bỉm, thì b...     1\n",
      "1        Ngọc Trâm  Quá tệ.\\n1/ Về giao hàng vs cskh. Mình đồng ý ...     1\n",
      "2       Hương Minh  Hàng chất lượng. Giá rẻ hơn cửa hàng. Nhưng bỉ...     5\n",
      "3        Jany Pham  Chất lượng bỉm thì ok mà bên giao hàng và bên ...     1\n",
      "4          My Linh  hàng giả mọi người ơi đừng mua . vì cái tã này...     1\n",
      "<class 'pandas.core.frame.DataFrame'>\n",
      "RangeIndex: 4667466 entries, 0 to 4667465\n",
      "Data columns (total 3 columns):\n",
      " #   Column   Dtype \n",
      "---  ------   ----- \n",
      " 0   name     object\n",
      " 1   content  object\n",
      " 2   rate     int64 \n",
      "dtypes: int64(1), object(2)\n",
      "memory usage: 106.8+ MB\n"
     ]
    }
   ],
   "source": [
    "df = pd.read_json('total_comment(13-4-2022).json')\n",
    "print(df.head())\n",
    "df.info()"
   ]
  },
  {
   "cell_type": "code",
   "execution_count": 3,
   "metadata": {},
   "outputs": [],
   "source": [
    "# bình luận theo số sao\n",
    "r0 = df[df['rate'] == 0]\n",
    "r1 = df[df['rate'] == 1]\n",
    "r2 = df[df['rate'] == 2]\n",
    "r3 = df[df['rate'] == 3]\n",
    "r4 = df[df['rate'] == 4]\n",
    "r5 = df[df['rate'] == 5]"
   ]
  },
  {
   "cell_type": "code",
   "execution_count": 4,
   "metadata": {},
   "outputs": [],
   "source": [
    "# Bình luận rỗng theo số sao\n",
    "r0_empty = r0[r0['content'] == '']\n",
    "r1_empty = r1[r1['content'] == '']\n",
    "r2_empty = r2[r2['content'] == '']\n",
    "r3_empty = r3[r3['content'] == '']\n",
    "r4_empty = r4[r4['content'] == '']\n",
    "r5_empty = r5[r5['content'] == '']"
   ]
  },
  {
   "cell_type": "code",
   "execution_count": 5,
   "metadata": {},
   "outputs": [
    {
     "name": "stdout",
     "output_type": "stream",
     "text": [
      "số bl rỗng 0s 0\n",
      "số bl rỗng 1s 3986\n",
      "số bl rỗng 2s 2452\n",
      "số bl rỗng 3s 36663\n",
      "số bl rỗng 4s 370524\n",
      "số bl rỗng 5s 2286346\n"
     ]
    }
   ],
   "source": [
    "# Tổng bình luận rỗng\n",
    "print('số bl rỗng 0s',len(r0_empty))\n",
    "print('số bl rỗng 1s',len(r1_empty))\n",
    "print('số bl rỗng 2s',len(r2_empty))\n",
    "print('số bl rỗng 3s',len(r3_empty))\n",
    "print('số bl rỗng 4s',len(r4_empty))\n",
    "print('số bl rỗng 5s',len(r5_empty))"
   ]
  },
  {
   "cell_type": "code",
   "execution_count": 6,
   "metadata": {},
   "outputs": [],
   "source": [
    "# Xóa tất cả bl rỗng\n",
    "df = df.drop(r0_empty.index)\n",
    "df = df.drop(r1_empty.index)\n",
    "df = df.drop(r2_empty.index)\n",
    "df = df.drop(r3_empty.index)\n",
    "df = df.drop(r4_empty.index)\n",
    "df = df.drop(r5_empty.index)"
   ]
  },
  {
   "cell_type": "code",
   "execution_count": 7,
   "metadata": {},
   "outputs": [
    {
     "data": {
      "text/plain": [
       "1967495"
      ]
     },
     "execution_count": 7,
     "metadata": {},
     "output_type": "execute_result"
    }
   ],
   "source": [
    "len(df)"
   ]
  },
  {
   "cell_type": "markdown",
   "metadata": {},
   "source": [
    "# NLP processing"
   ]
  },
  {
   "cell_type": "code",
   "execution_count": 19,
   "metadata": {},
   "outputs": [],
   "source": [
    "from pyvi import ViTokenizer, ViPosTagger # thư viện NLP tiếng Việt\n",
    "from tqdm import tqdm\n",
    "import numpy as np\n",
    "import gensim # thư viện NLP\n",
    "import os\n",
    "from sklearn.datasets import make_blobs\n",
    "from sklearn.model_selection import train_test_split"
   ]
  },
  {
   "cell_type": "code",
   "execution_count": 20,
   "metadata": {},
   "outputs": [],
   "source": [
    "X = df['content']\n",
    "y = df['rate']"
   ]
  },
  {
   "cell_type": "code",
   "execution_count": 21,
   "metadata": {},
   "outputs": [],
   "source": [
    "# Thay nahn4\n",
    "ne = [0, 1, 2]\n",
    "pos = [4, 5]\n",
    "y = y.replace(ne, 'negative')\n",
    "y = y.replace(3, 'neutral')\n",
    "y = y.replace(pos, 'possitive')"
   ]
  },
  {
   "cell_type": "code",
   "execution_count": 9,
   "metadata": {},
   "outputs": [],
   "source": [
    "def get_data(folder_path):\n",
    "    X_train, X_test, y_train, y_test = train_test_split(X, y, test_size=0.3)\n",
    "    return X_train, X_test, y_train, y_test\n"
   ]
  },
  {
   "cell_type": "code",
   "execution_count": 10,
   "metadata": {},
   "outputs": [],
   "source": [
    "# train_path = os.path.join(df, 'VNTC-master/Data/10Topics/Ver1.1/Train_Full')\n",
    "# X_data, y_data = get_data(train_path)"
   ]
  }
 ],
 "metadata": {
  "interpreter": {
   "hash": "b12160aa5c532298504f334c9c949254d1472605df29929b0e1c446e513e2259"
  },
  "kernelspec": {
   "display_name": "Python 3.10.2 ('env': venv)",
   "language": "python",
   "name": "python3"
  },
  "language_info": {
   "codemirror_mode": {
    "name": "ipython",
    "version": 3
   },
   "file_extension": ".py",
   "mimetype": "text/x-python",
   "name": "python",
   "nbconvert_exporter": "python",
   "pygments_lexer": "ipython3",
   "version": "3.10.2"
  },
  "orig_nbformat": 4
 },
 "nbformat": 4,
 "nbformat_minor": 2
}
